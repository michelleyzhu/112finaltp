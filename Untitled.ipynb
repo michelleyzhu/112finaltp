{
 "cells": [
  {
   "cell_type": "code",
   "execution_count": 3,
   "metadata": {},
   "outputs": [
    {
     "data": {
      "text/plain": [
       "SVD{Float64,Float64,Array{Float64,2}}\n",
       "U factor:\n",
       "3×3 Array{Float64,2}:\n",
       " -0.408248   0.912871   0.0\n",
       " -0.816497  -0.365148  -0.447214\n",
       " -0.408248  -0.182574   0.894427\n",
       "singular values:\n",
       "3-element Array{Float64,1}:\n",
       " 3.4641016151377553\n",
       " 3.5108334685767e-16\n",
       " 0.0\n",
       "Vt factor:\n",
       "3×3 Array{Float64,2}:\n",
       " 0.707107  0.0  -0.707107\n",
       " 0.707107  0.0   0.707107\n",
       " 0.0       1.0   0.0"
      ]
     },
     "execution_count": 3,
     "metadata": {},
     "output_type": "execute_result"
    }
   ],
   "source": [
    "using LinearAlgebra\n",
    "\n",
    "sobel = [-1 0 1; -2 0 2; -1 0 1]\n",
    "U,σ,V = svd(sobel, full = true)"
   ]
  },
  {
   "cell_type": "code",
   "execution_count": 15,
   "metadata": {},
   "outputs": [
    {
     "data": {
      "text/plain": [
       "3×3 Array{Float64,2}:\n",
       " -0.999999  0.0  0.999999\n",
       " -2.0       0.0  2.0\n",
       " -0.999999  0.0  0.999999"
      ]
     },
     "execution_count": 15,
     "metadata": {},
     "output_type": "execute_result"
    }
   ],
   "source": [
    "u = [-0.408248 -0.816497 -0.408248]\n",
    "v = [sqrt(2)/2 0 -sqrt(2)/2]\n",
    "u'*3.4641016151377553*v # correct!"
   ]
  },
  {
   "cell_type": "code",
   "execution_count": 16,
   "metadata": {},
   "outputs": [
    {
     "data": {
      "text/plain": [
       "3×3 Array{Float64,2}:\n",
       " -0.999999  -2.0  -0.999999\n",
       "  0.0        0.0   0.0\n",
       "  0.999999   2.0   0.999999"
      ]
     },
     "execution_count": 16,
     "metadata": {},
     "output_type": "execute_result"
    }
   ],
   "source": [
    "v'*3.4641016151377553*u"
   ]
  },
  {
   "cell_type": "code",
   "execution_count": 18,
   "metadata": {},
   "outputs": [
    {
     "data": {
      "text/plain": [
       "3×8 Array{Int64,2}:\n",
       " 1000  -1000  -1000   1000  1000  -1000  -1000   1000\n",
       " 1000   1000  -1000  -1000  1000   1000  -1000  -1000\n",
       "    5      5      5      5     8      8      8      8"
      ]
     },
     "execution_count": 18,
     "metadata": {},
     "output_type": "execute_result"
    }
   ],
   "source": [
    "P = [1  -1  -1  1  1  -1  -1  1 ;\n",
    "    1  1  -1  -1  1  1  -1  -1 ;\n",
    "    5  5  5  5  8  8  8  8]\n",
    "Cinv = [1000 0 0; 0 1000 0; 0 0 1]\n",
    "Cinv*P"
   ]
  },
  {
   "cell_type": "code",
   "execution_count": null,
   "metadata": {},
   "outputs": [],
   "source": [
    "P = [1  -1  -1  1  1  -1  -1  1 ;\n",
    "    1  1  -1  -1  1  1  -1  -1 ;\n",
    "    5  5  5  5  8  8  8  8]\n",
    "Cinv = [1000 0 0; 0 1000 0; 0 0 1000]\n",
    "Cinv*P"
   ]
  }
 ],
 "metadata": {
  "kernelspec": {
   "display_name": "Julia 1.5.1",
   "language": "julia",
   "name": "julia-1.5"
  },
  "language_info": {
   "file_extension": ".jl",
   "mimetype": "application/julia",
   "name": "julia",
   "version": "1.5.1"
  }
 },
 "nbformat": 4,
 "nbformat_minor": 4
}
